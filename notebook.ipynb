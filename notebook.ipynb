{
 "cells": [
  {
   "cell_type": "code",
   "execution_count": 1,
   "id": "87268000",
   "metadata": {},
   "outputs": [],
   "source": [
    "import cv2\n",
    "import pytesseract\n",
    "from pytesseract import Output\n",
    "import pandas as pd"
   ]
  },
  {
   "cell_type": "code",
   "execution_count": 2,
   "id": "cdc99d91",
   "metadata": {},
   "outputs": [],
   "source": [
    "# Load the image\n",
    "img = cv2.imread('data/images/3.jpg')\n",
    "\n",
    "# Convert the image to grayscale\n",
    "gray = cv2.cvtColor(img, cv2.COLOR_BGR2GRAY)\n",
    "\n",
    "# Apply thresholding to get a binary image\n",
    "thresh = cv2.threshold(gray, 0, 255, cv2.THRESH_BINARY_INV + cv2.THRESH_OTSU)[1]\n",
    "\n",
    "# Optionally, you can apply dilation to connect text regions\n",
    "kernel = cv2.getStructuringElement(cv2.MORPH_RECT, (3,3))\n",
    "dilated = cv2.dilate(thresh, kernel, iterations=2)"
   ]
  },
  {
   "cell_type": "code",
   "execution_count": 3,
   "id": "949071f4",
   "metadata": {},
   "outputs": [],
   "source": [
    "# Get the data with bounding boxes\n",
    "d = pytesseract.image_to_data(dilated, output_type=Output.DICT)"
   ]
  },
  {
   "cell_type": "code",
   "execution_count": null,
   "id": "3d41390a",
   "metadata": {},
   "outputs": [],
   "source": [
    "# Initialize a list to store line items\n",
    "line_items = []\n",
    "\n",
    "# Define a function to check if a word is part of a line item\n",
    "def is_line_item(word):\n",
    "    # Example heuristic: check if the word contains a price (e.g., ends with a dollar sign)\n",
    "    return '$' in word\n",
    "\n",
    "# Iterate through the extracted data\n",
    "n_boxes = len(d['text'])\n",
    "for i in range(n_boxes):\n",
    "    if int(d['conf'][i]) > 60:  # Confidence threshold\n",
    "        (x, y, w, h) = (d['left'][i], d['top'][i], d['width'][i], d['height'][i])\n",
    "        word = d['text'][i]\n",
    "        if is_line_item(word):\n",
    "            line_items.append({\n",
    "                'text': word,\n",
    "                'x': x,\n",
    "                'y': y,\n",
    "                'w': w,\n",
    "                'h': h\n",
    "            })\n",
    "            img = cv2.rectangle(img, (x, y), (x + w, y + h), (0, 255, 0), 2)\n",
    "\n",
    "# Display the image with bounding boxes\n",
    "cv2.imshow('Image', img)\n",
    "cv2.waitKey(0)\n",
    "cv2.destroyAllWindows()"
   ]
  },
  {
   "cell_type": "code",
   "execution_count": 2,
   "id": "84ac5933",
   "metadata": {},
   "outputs": [
    {
     "name": "stderr",
     "output_type": "stream",
     "text": [
      "c:\\Users\\lenovo\\AppData\\Local\\Programs\\Python\\Python38\\lib\\site-packages\\paddle\\utils\\cpp_extension\\extension_utils.py:711: UserWarning: No ccache found. Please be aware that recompiling all source files may be required. You can download and install ccache from: https://github.com/ccache/ccache/blob/master/doc/INSTALL.md\n",
      "  warnings.warn(warning_message)\n"
     ]
    },
    {
     "name": "stdout",
     "output_type": "stream",
     "text": [
      "download https://paddleocr.bj.bcebos.com/PP-OCRv4/chinese/ch_PP-OCRv4_det_infer.tar to C:\\Users\\lenovo/.paddleocr/whl\\det\\ch\\ch_PP-OCRv4_det_infer\\ch_PP-OCRv4_det_infer.tar\n"
     ]
    },
    {
     "name": "stderr",
     "output_type": "stream",
     "text": [
      "100%|██████████| 4780/4780 [00:20<00:00, 230.73it/s] \n"
     ]
    },
    {
     "name": "stdout",
     "output_type": "stream",
     "text": [
      "download https://paddleocr.bj.bcebos.com/PP-OCRv4/chinese/ch_PP-OCRv4_rec_infer.tar to C:\\Users\\lenovo/.paddleocr/whl\\rec\\ch\\ch_PP-OCRv4_rec_infer\\ch_PP-OCRv4_rec_infer.tar\n"
     ]
    },
    {
     "name": "stderr",
     "output_type": "stream",
     "text": [
      "100%|██████████| 10720/10720 [00:23<00:00, 459.51it/s] \n"
     ]
    },
    {
     "name": "stdout",
     "output_type": "stream",
     "text": [
      "download https://paddleocr.bj.bcebos.com/dygraph_v2.0/ch/ch_ppocr_mobile_v2.0_cls_infer.tar to C:\\Users\\lenovo/.paddleocr/whl\\cls\\ch_ppocr_mobile_v2.0_cls_infer\\ch_ppocr_mobile_v2.0_cls_infer.tar\n"
     ]
    },
    {
     "name": "stderr",
     "output_type": "stream",
     "text": [
      "100%|██████████| 2138/2138 [00:17<00:00, 123.47it/s]\n"
     ]
    },
    {
     "name": "stdout",
     "output_type": "stream",
     "text": [
      "[2025/04/16 11:37:44] ppocr DEBUG: Namespace(alpha=1.0, alphacolor=(255, 255, 255), benchmark=False, beta=1.0, binarize=False, cls_batch_num=6, cls_image_shape='3, 48, 192', cls_model_dir='C:\\\\Users\\\\lenovo/.paddleocr/whl\\\\cls\\\\ch_ppocr_mobile_v2.0_cls_infer', cls_thresh=0.9, cpu_threads=10, crop_res_save_dir='./output', det=True, det_algorithm='DB', det_box_type='quad', det_db_box_thresh=0.6, det_db_score_mode='fast', det_db_thresh=0.3, det_db_unclip_ratio=1.5, det_east_cover_thresh=0.1, det_east_nms_thresh=0.2, det_east_score_thresh=0.8, det_limit_side_len=960, det_limit_type='max', det_model_dir='C:\\\\Users\\\\lenovo/.paddleocr/whl\\\\det\\\\ch\\\\ch_PP-OCRv4_det_infer', det_pse_box_thresh=0.85, det_pse_min_area=16, det_pse_scale=1, det_pse_thresh=0, det_sast_nms_thresh=0.2, det_sast_score_thresh=0.5, draw_img_save_dir='./inference_results', drop_score=0.5, e2e_algorithm='PGNet', e2e_char_dict_path='./ppocr/utils/ic15_dict.txt', e2e_limit_side_len=768, e2e_limit_type='max', e2e_model_dir=None, e2e_pgnet_mode='fast', e2e_pgnet_score_thresh=0.5, e2e_pgnet_valid_set='totaltext', enable_mkldnn=False, formula=False, formula_algorithm='LaTeXOCR', formula_batch_num=1, formula_char_dict_path=None, formula_model_dir=None, fourier_degree=5, gpu_id=0, gpu_mem=500, help='==SUPPRESS==', image_dir=None, image_orientation=False, invert=False, ir_optim=True, kie_algorithm='LayoutXLM', label_list=['0', '180'], lang='ch', layout=True, layout_dict_path=None, layout_model_dir=None, layout_nms_threshold=0.5, layout_score_threshold=0.5, max_batch_size=10, max_text_length=25, merge_no_span_structure=True, min_subgraph_size=15, mode='structure', ocr=True, ocr_order_method=None, ocr_version='PP-OCRv4', onnx_providers=False, onnx_sess_options=False, output='./output', page_num=0, precision='fp32', process_id=0, re_model_dir=None, rec=True, rec_algorithm='SVTR_LCNet', rec_batch_num=6, rec_char_dict_path='c:\\\\Users\\\\lenovo\\\\AppData\\\\Local\\\\Programs\\\\Python\\\\Python38\\\\lib\\\\site-packages\\\\paddleocr\\\\ppocr\\\\utils\\\\ppocr_keys_v1.txt', rec_image_inverse=True, rec_image_shape='3, 48, 320', rec_model_dir='C:\\\\Users\\\\lenovo/.paddleocr/whl\\\\rec\\\\ch\\\\ch_PP-OCRv4_rec_infer', recovery=False, recovery_to_markdown=False, return_word_box=False, save_crop_res=False, save_log_path='./log_output/', savefile=False, scales=[8, 16, 32], ser_dict_path='../train_data/XFUND/class_list_xfun.txt', ser_model_dir=None, show_log=True, sr_batch_num=1, sr_image_shape='3, 32, 128', sr_model_dir=None, structure_version='PP-StructureV2', table=True, table_algorithm='TableAttn', table_char_dict_path=None, table_max_len=488, table_model_dir=None, total_process_num=1, type='ocr', use_angle_cls=False, use_dilation=False, use_gcu=False, use_gpu=False, use_mlu=False, use_mp=False, use_npu=False, use_onnx=False, use_pdf2docx_api=False, use_pdserving=False, use_space_char=True, use_tensorrt=False, use_visual_backbone=True, use_xpu=False, vis_font_path='./doc/fonts/simfang.ttf', warmup=False)\n",
      "[2025/04/16 11:37:46] ppocr WARNING: Since the angle classifier is not initialized, it will not be used during the forward process\n",
      "[[296.0, 850.0], [316.0, 854.0], [314.0, 866.0], [293.0, 862.0]]\n",
      "[[160.0, 808.0], [494.0, 814.0], [494.0, 836.0], [160.0, 830.0]]\n",
      "[[340.0, 795.0], [415.0, 797.0], [414.0, 815.0], [340.0, 812.0]]\n",
      "[[232.0, 798.0], [305.0, 798.0], [305.0, 812.0], [232.0, 812.0]]\n",
      "[[364.0, 786.0], [387.0, 786.0], [387.0, 794.0], [364.0, 794.0]]\n",
      "[[235.0, 784.0], [324.0, 784.0], [324.0, 795.0], [235.0, 795.0]]\n",
      "[[200.0, 732.0], [457.0, 734.0], [457.0, 753.0], [200.0, 751.0]]\n",
      "[[260.0, 717.0], [394.0, 720.0], [394.0, 739.0], [260.0, 735.0]]\n",
      "[[436.0, 707.0], [473.0, 707.0], [473.0, 722.0], [436.0, 722.0]]\n",
      "[[304.0, 704.0], [392.0, 704.0], [392.0, 722.0], [304.0, 722.0]]\n",
      "[[421.0, 690.0], [475.0, 690.0], [475.0, 708.0], [421.0, 708.0]]\n",
      "[[304.0, 688.0], [392.0, 688.0], [392.0, 706.0], [304.0, 706.0]]\n",
      "[[418.0, 673.0], [475.0, 675.0], [475.0, 693.0], [417.0, 690.0]]\n",
      "[[346.0, 672.0], [391.0, 674.0], [390.0, 690.0], [345.0, 687.0]]\n",
      "[[434.0, 658.0], [475.0, 658.0], [475.0, 677.0], [434.0, 677.0]]\n",
      "[[313.0, 655.0], [378.0, 658.0], [378.0, 675.0], [312.0, 673.0]]\n",
      "[[249.0, 657.0], [293.0, 657.0], [293.0, 673.0], [249.0, 673.0]]\n",
      "[[420.0, 640.0], [475.0, 643.0], [474.0, 663.0], [419.0, 660.0]]\n",
      "[[321.0, 639.0], [392.0, 642.0], [392.0, 661.0], [320.0, 658.0]]\n",
      "[[434.0, 625.0], [495.0, 627.0], [494.0, 649.0], [433.0, 647.0]]\n",
      "[[262.0, 625.0], [413.0, 626.0], [413.0, 645.0], [262.0, 644.0]]\n",
      "[[171.0, 623.0], [272.0, 625.0], [271.0, 644.0], [170.0, 642.0]]\n",
      "[[436.0, 611.0], [493.0, 611.0], [493.0, 630.0], [436.0, 630.0]]\n",
      "[[282.0, 610.0], [403.0, 610.0], [403.0, 628.0], [282.0, 628.0]]\n",
      "[[173.0, 608.0], [240.0, 608.0], [240.0, 627.0], [173.0, 627.0]]\n",
      "[[435.0, 595.0], [494.0, 597.0], [493.0, 617.0], [434.0, 614.0]]\n",
      "[[282.0, 595.0], [403.0, 596.0], [403.0, 614.0], [282.0, 612.0]]\n",
      "[[174.0, 591.0], [215.0, 595.0], [213.0, 614.0], [172.0, 610.0]]\n",
      "[[207.0, 579.0], [403.0, 581.0], [403.0, 599.0], [207.0, 597.0]]\n",
      "[[438.0, 569.0], [493.0, 569.0], [493.0, 588.0], [438.0, 588.0]]\n",
      "[[284.0, 564.0], [403.0, 568.0], [402.0, 586.0], [283.0, 582.0]]\n",
      "[[175.0, 562.0], [256.0, 565.0], [255.0, 584.0], [175.0, 581.0]]\n",
      "[[438.0, 553.0], [493.0, 553.0], [493.0, 572.0], [438.0, 572.0]]\n",
      "[[286.0, 553.0], [385.0, 553.0], [385.0, 568.0], [286.0, 568.0]]\n",
      "[[176.0, 549.0], [258.0, 549.0], [258.0, 567.0], [176.0, 567.0]]\n",
      "[[437.0, 536.0], [494.0, 536.0], [494.0, 558.0], [437.0, 558.0]]\n",
      "[[286.0, 539.0], [385.0, 539.0], [385.0, 553.0], [286.0, 553.0]]\n",
      "[[176.0, 533.0], [267.0, 536.0], [266.0, 553.0], [176.0, 551.0]]\n",
      "[[475.0, 526.0], [491.0, 526.0], [491.0, 540.0], [475.0, 540.0]]\n",
      "[[438.0, 524.0], [482.0, 524.0], [482.0, 543.0], [438.0, 543.0]]\n",
      "[[385.0, 526.0], [402.0, 526.0], [402.0, 539.0], [385.0, 539.0]]\n",
      "[[286.0, 521.0], [390.0, 524.0], [390.0, 542.0], [285.0, 538.0]]\n",
      "[[178.0, 520.0], [235.0, 522.0], [234.0, 538.0], [178.0, 535.0]]\n",
      "[[437.0, 509.0], [493.0, 509.0], [493.0, 528.0], [437.0, 528.0]]\n",
      "[[286.0, 507.0], [387.0, 510.0], [386.0, 526.0], [285.0, 524.0]]\n",
      "[[180.0, 504.0], [278.0, 506.0], [278.0, 525.0], [180.0, 523.0]]\n",
      "[[479.0, 500.0], [490.0, 500.0], [490.0, 509.0], [479.0, 509.0]]\n",
      "[[431.0, 493.0], [479.0, 496.0], [478.0, 515.0], [430.0, 512.0]]\n",
      "[[287.0, 493.0], [398.0, 495.0], [397.0, 513.0], [286.0, 510.0]]\n",
      "[[181.0, 489.0], [221.0, 492.0], [220.0, 508.0], [180.0, 505.0]]\n",
      "[[479.0, 485.0], [491.0, 485.0], [491.0, 496.0], [479.0, 496.0]]\n",
      "[[439.0, 482.0], [477.0, 482.0], [477.0, 498.0], [439.0, 498.0]]\n",
      "[[285.0, 478.0], [388.0, 480.0], [388.0, 498.0], [284.0, 496.0]]\n",
      "[[180.0, 475.0], [294.0, 477.0], [294.0, 496.0], [180.0, 494.0]]\n",
      "[[477.0, 470.0], [492.0, 470.0], [492.0, 483.0], [477.0, 483.0]]\n",
      "[[441.0, 466.0], [478.0, 469.0], [476.0, 485.0], [440.0, 482.0]]\n",
      "[[385.0, 468.0], [404.0, 468.0], [404.0, 480.0], [385.0, 480.0]]\n",
      "[[288.0, 463.0], [391.0, 467.0], [391.0, 485.0], [287.0, 481.0]]\n",
      "[[183.0, 462.0], [229.0, 462.0], [229.0, 477.0], [183.0, 477.0]]\n",
      "[[477.0, 455.0], [492.0, 455.0], [492.0, 469.0], [477.0, 469.0]]\n",
      "[[440.0, 451.0], [482.0, 454.0], [481.0, 472.0], [439.0, 469.0]]\n",
      "[[291.0, 453.0], [390.0, 453.0], [390.0, 468.0], [291.0, 468.0]]\n",
      "[[385.0, 453.0], [405.0, 453.0], [405.0, 466.0], [385.0, 466.0]]\n",
      "[[183.0, 447.0], [261.0, 449.0], [261.0, 466.0], [182.0, 463.0]]\n",
      "[[478.0, 441.0], [492.0, 441.0], [492.0, 454.0], [478.0, 454.0]]\n",
      "[[441.0, 440.0], [480.0, 440.0], [480.0, 455.0], [441.0, 455.0]]\n",
      "[[389.0, 440.0], [404.0, 440.0], [404.0, 452.0], [389.0, 452.0]]\n",
      "[[180.0, 430.0], [391.0, 437.0], [391.0, 458.0], [180.0, 451.0]]\n",
      "[[479.0, 427.0], [491.0, 427.0], [491.0, 438.0], [479.0, 438.0]]\n",
      "[[441.0, 425.0], [478.0, 425.0], [478.0, 441.0], [441.0, 441.0]]\n",
      "[[385.0, 425.0], [405.0, 425.0], [405.0, 438.0], [385.0, 438.0]]\n",
      "[[288.0, 422.0], [390.0, 424.0], [390.0, 439.0], [288.0, 436.0]]\n",
      "[[182.0, 415.0], [291.0, 421.0], [290.0, 439.0], [181.0, 433.0]]\n",
      "[[442.0, 410.0], [494.0, 410.0], [494.0, 426.0], [442.0, 426.0]]\n",
      "[[385.0, 410.0], [405.0, 410.0], [405.0, 423.0], [385.0, 423.0]]\n",
      "[[280.0, 407.0], [390.0, 409.0], [390.0, 424.0], [280.0, 422.0]]\n",
      "[[183.0, 401.0], [289.0, 407.0], [288.0, 424.0], [182.0, 418.0]]\n",
      "[[441.0, 395.0], [496.0, 395.0], [496.0, 414.0], [441.0, 414.0]]\n",
      "[[184.0, 387.0], [390.0, 395.0], [389.0, 414.0], [183.0, 406.0]]\n",
      "[[443.0, 381.0], [495.0, 381.0], [495.0, 397.0], [443.0, 397.0]]\n",
      "[[183.0, 372.0], [408.0, 378.0], [408.0, 400.0], [182.0, 394.0]]\n",
      "[[442.0, 365.0], [498.0, 365.0], [498.0, 383.0], [442.0, 383.0]]\n",
      "[[390.0, 368.0], [402.0, 363.0], [407.0, 377.0], [395.0, 381.0]]\n",
      "[[183.0, 356.0], [392.0, 364.0], [392.0, 385.0], [182.0, 377.0]]\n",
      "[[442.0, 350.0], [499.0, 350.0], [499.0, 368.0], [442.0, 368.0]]\n",
      "[[183.0, 341.0], [394.0, 349.0], [394.0, 370.0], [182.0, 362.0]]\n",
      "[[291.0, 335.0], [388.0, 335.0], [388.0, 350.0], [291.0, 350.0]]\n",
      "[[444.0, 333.0], [499.0, 336.0], [498.0, 354.0], [443.0, 352.0]]\n",
      "[[186.0, 329.0], [250.0, 333.0], [249.0, 348.0], [185.0, 345.0]]\n",
      "[[290.0, 320.0], [393.0, 322.0], [393.0, 339.0], [290.0, 336.0]]\n",
      "[[443.0, 320.0], [500.0, 320.0], [500.0, 339.0], [443.0, 339.0]]\n",
      "[[390.0, 328.0], [401.0, 318.0], [402.0, 340.0], [401.0, 318.0]]\n",
      "[[185.0, 312.0], [274.0, 318.0], [273.0, 336.0], [184.0, 330.0]]\n",
      "[[443.0, 304.0], [500.0, 304.0], [500.0, 322.0], [443.0, 322.0]]\n",
      "[[391.0, 307.0], [407.0, 307.0], [407.0, 321.0], [391.0, 321.0]]\n",
      "[[183.0, 294.0], [396.0, 305.0], [394.0, 330.0], [182.0, 319.0]]\n",
      "[[291.0, 291.0], [411.0, 290.0], [411.0, 307.0], [291.0, 308.0]]\n",
      "[[443.0, 290.0], [500.0, 290.0], [500.0, 307.0], [443.0, 307.0]]\n",
      "[[185.0, 282.0], [275.0, 288.0], [274.0, 306.0], [184.0, 300.0]]\n",
      "[[192.0, 267.0], [350.0, 277.0], [349.0, 296.0], [190.0, 286.0]]\n",
      "[[292.0, 262.0], [410.0, 260.0], [410.0, 278.0], [292.0, 279.0]]\n",
      "[[445.0, 260.0], [502.0, 260.0], [502.0, 278.0], [445.0, 278.0]]\n",
      "[[186.0, 253.0], [274.0, 258.0], [273.0, 275.0], [185.0, 271.0]]\n",
      "[[295.0, 249.0], [398.0, 249.0], [398.0, 264.0], [295.0, 264.0]]\n",
      "[[446.0, 247.0], [501.0, 247.0], [501.0, 264.0], [446.0, 264.0]]\n",
      "[[186.0, 236.0], [276.0, 242.0], [275.0, 264.0], [185.0, 258.0]]\n",
      "[[295.0, 234.0], [398.0, 234.0], [398.0, 249.0], [295.0, 249.0]]\n",
      "[[393.0, 234.0], [411.0, 234.0], [411.0, 248.0], [393.0, 248.0]]\n",
      "[[445.0, 230.0], [502.0, 230.0], [502.0, 248.0], [445.0, 248.0]]\n",
      "[[187.0, 223.0], [276.0, 229.0], [275.0, 246.0], [186.0, 240.0]]\n",
      "[[446.0, 216.0], [502.0, 216.0], [502.0, 234.0], [446.0, 234.0]]\n",
      "[[187.0, 207.0], [400.0, 218.0], [399.0, 242.0], [186.0, 231.0]]\n",
      "[[294.0, 204.0], [412.0, 204.0], [412.0, 222.0], [294.0, 222.0]]\n",
      "[[445.0, 202.0], [501.0, 200.0], [502.0, 218.0], [446.0, 221.0]]\n",
      "[[189.0, 193.0], [277.0, 199.0], [276.0, 217.0], [188.0, 211.0]]\n",
      "[[270.0, 171.0], [422.0, 175.0], [421.0, 197.0], [269.0, 193.0]]\n",
      "[[254.0, 155.0], [430.0, 161.0], [429.0, 183.0], [253.0, 177.0]]\n"
     ]
    }
   ],
   "source": [
    "from paddleocr import PaddleOCR,draw_ocr\n",
    "ocr = PaddleOCR() # need to run only once to download and load model into memory\n",
    "img_path = 'outputs/preprocessed_receipt.jpg'\n",
    "result = ocr.ocr(img_path,rec=False)\n",
    "for idx in range(len(result)):\n",
    "    res = result[idx]\n",
    "    for line in res:\n",
    "        print(line)\n",
    "\n",
    "# draw result\n",
    "from PIL import Image\n",
    "result = result[0]\n",
    "image = Image.open(img_path).convert('RGB')\n",
    "im_show = draw_ocr(image, result, txts=None, scores=None, font_path='/path/to/PaddleOCR/doc/fonts/simfang.ttf')\n",
    "im_show = Image.fromarray(im_show)\n",
    "im_show.save('result.jpg')"
   ]
  },
  {
   "cell_type": "code",
   "execution_count": 3,
   "id": "f07a2c52",
   "metadata": {},
   "outputs": [
    {
     "name": "stdout",
     "output_type": "stream",
     "text": [
      "download https://paddleocr.bj.bcebos.com/PP-OCRv3/english/en_PP-OCRv3_det_infer.tar to C:\\Users\\lenovo/.paddleocr/whl\\det\\en\\en_PP-OCRv3_det_infer\\en_PP-OCRv3_det_infer.tar\n"
     ]
    },
    {
     "name": "stderr",
     "output_type": "stream",
     "text": [
      "100%|██████████| 3910/3910 [00:23<00:00, 165.09it/s] \n"
     ]
    },
    {
     "name": "stdout",
     "output_type": "stream",
     "text": [
      "download https://paddleocr.bj.bcebos.com/PP-OCRv4/english/en_PP-OCRv4_rec_infer.tar to C:\\Users\\lenovo/.paddleocr/whl\\rec\\en\\en_PP-OCRv4_rec_infer\\en_PP-OCRv4_rec_infer.tar\n"
     ]
    },
    {
     "name": "stderr",
     "output_type": "stream",
     "text": [
      "100%|██████████| 10000/10000 [00:49<00:00, 203.39it/s]"
     ]
    },
    {
     "name": "stdout",
     "output_type": "stream",
     "text": [
      "[2025/04/16 11:39:56] ppocr DEBUG: Namespace(alpha=1.0, alphacolor=(255, 255, 255), benchmark=False, beta=1.0, binarize=False, cls_batch_num=6, cls_image_shape='3, 48, 192', cls_model_dir='C:\\\\Users\\\\lenovo/.paddleocr/whl\\\\cls\\\\ch_ppocr_mobile_v2.0_cls_infer', cls_thresh=0.9, cpu_threads=10, crop_res_save_dir='./output', det=True, det_algorithm='DB', det_box_type='quad', det_db_box_thresh=0.6, det_db_score_mode='fast', det_db_thresh=0.3, det_db_unclip_ratio=1.5, det_east_cover_thresh=0.1, det_east_nms_thresh=0.2, det_east_score_thresh=0.8, det_limit_side_len=960, det_limit_type='max', det_model_dir='C:\\\\Users\\\\lenovo/.paddleocr/whl\\\\det\\\\en\\\\en_PP-OCRv3_det_infer', det_pse_box_thresh=0.85, det_pse_min_area=16, det_pse_scale=1, det_pse_thresh=0, det_sast_nms_thresh=0.2, det_sast_score_thresh=0.5, draw_img_save_dir='./inference_results', drop_score=0.5, e2e_algorithm='PGNet', e2e_char_dict_path='./ppocr/utils/ic15_dict.txt', e2e_limit_side_len=768, e2e_limit_type='max', e2e_model_dir=None, e2e_pgnet_mode='fast', e2e_pgnet_score_thresh=0.5, e2e_pgnet_valid_set='totaltext', enable_mkldnn=False, formula=False, formula_algorithm='LaTeXOCR', formula_batch_num=1, formula_char_dict_path=None, formula_model_dir=None, fourier_degree=5, gpu_id=0, gpu_mem=500, help='==SUPPRESS==', image_dir=None, image_orientation=False, invert=False, ir_optim=True, kie_algorithm='LayoutXLM', label_list=['0', '180'], lang='en', layout=True, layout_dict_path=None, layout_model_dir=None, layout_nms_threshold=0.5, layout_score_threshold=0.5, max_batch_size=10, max_text_length=25, merge_no_span_structure=True, min_subgraph_size=15, mode='structure', ocr=True, ocr_order_method=None, ocr_version='PP-OCRv4', onnx_providers=False, onnx_sess_options=False, output='./output', page_num=0, precision='fp32', process_id=0, re_model_dir=None, rec=True, rec_algorithm='SVTR_LCNet', rec_batch_num=6, rec_char_dict_path='c:\\\\Users\\\\lenovo\\\\AppData\\\\Local\\\\Programs\\\\Python\\\\Python38\\\\lib\\\\site-packages\\\\paddleocr\\\\ppocr\\\\utils\\\\en_dict.txt', rec_image_inverse=True, rec_image_shape='3, 48, 320', rec_model_dir='C:\\\\Users\\\\lenovo/.paddleocr/whl\\\\rec\\\\en\\\\en_PP-OCRv4_rec_infer', recovery=False, recovery_to_markdown=False, return_word_box=False, save_crop_res=False, save_log_path='./log_output/', savefile=False, scales=[8, 16, 32], ser_dict_path='../train_data/XFUND/class_list_xfun.txt', ser_model_dir=None, show_log=True, sr_batch_num=1, sr_image_shape='3, 32, 128', sr_model_dir=None, structure_version='PP-StructureV2', table=True, table_algorithm='TableAttn', table_char_dict_path=None, table_max_len=488, table_model_dir=None, total_process_num=1, type='ocr', use_angle_cls=False, use_dilation=False, use_gcu=False, use_gpu=False, use_mlu=False, use_mp=False, use_npu=False, use_onnx=False, use_pdf2docx_api=False, use_pdserving=False, use_space_char=True, use_tensorrt=False, use_visual_backbone=True, use_xpu=False, vis_font_path='./doc/fonts/simfang.ttf', warmup=False)\n"
     ]
    },
    {
     "name": "stderr",
     "output_type": "stream",
     "text": [
      "\n"
     ]
    },
    {
     "name": "stdout",
     "output_type": "stream",
     "text": [
      "[2025/04/16 11:39:58] ppocr DEBUG: dt_boxes num : 96, elapsed : 0.754462718963623\n",
      "[2025/04/16 11:40:45] ppocr DEBUG: rec_res num  : 96, elapsed : 46.26306223869324\n",
      "[[[283.0, 109.0], [437.0, 109.0], [437.0, 143.0], [283.0, 143.0]], (\"Walmart>'\", 0.8837904334068298)]\n",
      "[[[254.0, 155.0], [430.0, 160.0], [429.0, 181.0], [253.0, 177.0]], ('B82.S.STATE ROAD135', 0.7495614886283875)]\n",
      "[[[271.0, 173.0], [421.0, 174.0], [421.0, 192.0], [271.0, 191.0]], ('GREENVOODIN46143', 0.8620043396949768)]\n",
      "[[[191.0, 194.0], [298.0, 202.0], [296.0, 217.0], [190.0, 209.0]], ('TATER TOTS', 0.8641535639762878)]\n",
      "[[[294.0, 203.0], [410.0, 204.0], [410.0, 219.0], [294.0, 218.0]], ('001312000026F', 0.9693447351455688)]\n",
      "[[[447.0, 203.0], [500.0, 203.0], [500.0, 219.0], [447.0, 219.0]], ('2.96.0', 0.9621095657348633)]\n",
      "[[[188.0, 224.0], [276.0, 231.0], [275.0, 245.0], [187.0, 238.0]], ('SHACK BARS', 0.9131817817687988)]\n",
      "[[[445.0, 217.0], [501.0, 214.0], [502.0, 233.0], [446.0, 236.0]], ('2.680', 0.9315061569213867)]\n",
      "[[[189.0, 239.0], [275.0, 245.0], [274.0, 260.0], [188.0, 254.0]], ('HRI.CL CHS', 0.8876227140426636)]\n",
      "[[[292.0, 233.0], [411.0, 230.0], [411.0, 248.0], [292.0, 251.0]], ('002190848816F', 0.8437411189079285)]\n",
      "[[[446.0, 233.0], [499.0, 230.0], [500.0, 246.0], [447.0, 248.0]], ('4.98', 0.8691332340240479)]\n",
      "[[[187.0, 255.0], [275.0, 260.0], [274.0, 274.0], [186.0, 270.0]], ('KRICL CHS', 0.8683127164840698)]\n",
      "[[[295.0, 248.0], [397.0, 248.0], [397.0, 262.0], [295.0, 262.0]], ('003120506000', 0.9734100699424744)]\n",
      "[[[390.0, 251.0], [407.0, 246.0], [411.0, 258.0], [394.0, 264.0]], ('F', 0.5216543078422546)]\n",
      "[[[445.0, 246.0], [500.0, 242.0], [501.0, 261.0], [446.0, 265.0]], ('5.88', 0.919998049736023)]\n",
      "[[[192.0, 268.0], [350.0, 277.0], [349.0, 295.0], [191.0, 286.0]], ('.VOIDEDENTAY', 0.9062812328338623)]\n",
      "[[[281.0, 263.0], [408.0, 261.0], [408.0, 276.0], [281.0, 277.0]], ('003120506000', 0.9651499390602112)]\n",
      "[[[445.0, 260.0], [502.0, 260.0], [502.0, 278.0], [445.0, 278.0]], ('6.880', 0.8601897954940796)]\n",
      "[[[186.0, 283.0], [285.0, 290.0], [284.0, 304.0], [185.0, 298.0]], ('HRICL CHS', 0.9366854429244995)]\n",
      "[[[185.0, 297.0], [410.0, 305.0], [410.0, 326.0], [184.0, 317.0]], ('E12USG.003120535000F', 0.8786169290542603)]\n",
      "[[[280.0, 292.0], [408.0, 291.0], [408.0, 305.0], [280.0, 306.0]], ('003120606000', 0.9319577217102051)]\n",
      "[[[444.0, 291.0], [499.0, 291.0], [499.0, 307.0], [444.0, 307.0]], ('5.8B-', 0.8612556457519531)]\n",
      "[[[187.0, 313.0], [276.0, 319.0], [275.0, 334.0], [186.0, 328.0]], ('HRICL PEP', 0.9312422871589661)]\n",
      "[[[444.0, 306.0], [499.0, 306.0], [499.0, 323.0], [444.0, 323.0]], ('6.880', 0.9777127504348755)]\n",
      "[[[187.0, 329.0], [251.0, 331.0], [250.0, 346.0], [186.0, 344.0]], ('EARBUDS', 0.983037531375885)]\n",
      "[[[289.0, 322.0], [408.0, 322.0], [408.0, 336.0], [289.0, 336.0]], ('003120507000F', 0.9530743956565857)]\n",
      "[[[444.0, 322.0], [498.0, 322.0], [498.0, 336.0], [444.0, 336.0]], ('5.880', 0.9156931638717651)]\n",
      "[[[185.0, 342.0], [394.0, 350.0], [394.0, 369.0], [184.0, 361.0]], ('SC CN CH0DR007874202906', 0.8820548057556152)]\n",
      "[[[291.0, 334.0], [390.0, 337.0], [390.0, 351.0], [291.0, 349.0]], ('068113100946', 0.957170307636261)]\n",
      "[[[444.0, 336.0], [496.0, 336.0], [496.0, 352.0], [444.0, 352.0]], ('4.88', 0.8544668555259705)]\n",
      "[[[185.0, 356.0], [402.0, 364.0], [401.0, 385.0], [184.0, 377.0]], ('ABETHIN8RST022461710972', 0.7890608310699463)]\n",
      "[[[444.0, 351.0], [495.0, 351.0], [495.0, 367.0], [444.0, 367.0]], ('6.980', 0.8973248600959778)]\n",
      "[[[185.0, 373.0], [406.0, 380.0], [405.0, 398.0], [184.0, 390.0]], ('HARD/PR0V/DC 007874219410F', 0.8910824656486511)]\n",
      "[[[443.0, 366.0], [495.0, 366.0], [495.0, 381.0], [443.0, 381.0]], ('9.720', 0.9696145057678223)]\n",
      "[[[185.0, 387.0], [389.0, 395.0], [388.0, 413.0], [184.0, 405.0]], ('DVRSE 0ILK0011101220', 0.7309810519218445)]\n",
      "[[[443.0, 381.0], [494.0, 381.0], [494.0, 397.0], [443.0, 397.0]], ('2.680', 0.9442847967147827)]\n",
      "[[[184.0, 402.0], [405.0, 408.0], [404.0, 426.0], [183.0, 420.0]], ('APPLE38AG084747300184F', 0.878784716129303)]\n",
      "[[[441.0, 396.0], [494.0, 394.0], [495.0, 411.0], [442.0, 414.0]], ('5.94X', 0.7314789295196533)]\n",
      "[[[184.0, 416.0], [404.0, 423.0], [403.0, 440.0], [183.0, 433.0]], ('STOKLTST00412710277F', 0.8660046458244324)]\n",
      "[[[442.0, 410.0], [493.0, 410.0], [493.0, 426.0], [442.0, 426.0]], ('647N', 0.8694310188293457)]\n",
      "[[[182.0, 431.0], [390.0, 437.0], [390.0, 454.0], [182.0, 449.0]], ('PEANUTBUTIR005150026499', 0.8678500056266785)]\n",
      "[[[442.0, 425.0], [478.0, 425.0], [478.0, 441.0], [442.0, 441.0]], ('4.42', 0.7720547318458557)]\n",
      "[[[183.0, 448.0], [260.0, 451.0], [260.0, 465.0], [182.0, 461.0]], ('AVD VERDE', 0.8831764459609985)]\n",
      "[[[441.0, 440.0], [492.0, 440.0], [492.0, 454.0], [441.0, 454.0]], ('5.40', 0.8816647529602051)]\n",
      "[[[288.0, 451.0], [405.0, 452.0], [405.0, 467.0], [288.0, 466.0]], ('061611205143', 0.8954894542694092)]\n",
      "[[[183.0, 462.0], [228.0, 462.0], [228.0, 477.0], [183.0, 477.0]], ('ROLLS', 0.9859746098518372)]\n",
      "[[[441.0, 454.0], [492.0, 454.0], [492.0, 470.0], [441.0, 470.0]], ('298N', 0.908304750919342)]\n",
      "[[[288.0, 464.0], [403.0, 467.0], [403.0, 481.0], [288.0, 479.0]], ('007874219416', 0.9079967141151428)]\n",
      "[[[181.0, 475.0], [389.0, 479.0], [389.0, 497.0], [181.0, 493.0]], ('BTS DRY8L0N501072452716', 0.8636144399642944)]\n",
      "[[[441.0, 468.0], [492.0, 468.0], [492.0, 483.0], [441.0, 483.0]], ('1.28.0', 0.9115254282951355)]\n",
      "[[[440.0, 480.0], [479.0, 483.0], [478.0, 498.0], [439.0, 496.0]], ('6.58', 0.8936103582382202)]\n",
      "[[[182.0, 492.0], [219.0, 492.0], [219.0, 506.0], [182.0, 506.0]], ('GALE', 0.9941983819007874)]\n",
      "[[[288.0, 493.0], [395.0, 496.0], [395.0, 511.0], [287.0, 507.0]], ('000000000003K', 0.8301845788955688)]\n",
      "[[[431.0, 496.0], [477.0, 496.0], [477.0, 511.0], [431.0, 511.0]], ('32.00', 0.9400926828384399)]\n",
      "[[[182.0, 507.0], [275.0, 507.0], [275.0, 522.0], [182.0, 522.0]], ('TR HS FAK', 0.831988513469696)]\n",
      "[[[287.0, 507.0], [386.0, 509.0], [385.0, 524.0], [286.0, 522.0]], ('002240062190', 0.9552831649780273)]\n",
      "[[[438.0, 511.0], [492.0, 511.0], [492.0, 528.0], [438.0, 528.0]], ('2.71', 0.9129262566566467)]\n",
      "[[[181.0, 521.0], [233.0, 521.0], [233.0, 535.0], [181.0, 535.0]], ('BAGELS', 0.9167969822883606)]\n",
      "[[[287.0, 523.0], [402.0, 525.0], [401.0, 539.0], [286.0, 536.0]], ('001376402801F', 0.9518498778343201)]\n",
      "[[[177.0, 534.0], [265.0, 534.0], [265.0, 552.0], [177.0, 552.0]], ('GV SLIDERS', 0.8960870504379272)]\n",
      "[[[440.0, 525.0], [491.0, 525.0], [491.0, 541.0], [440.0, 541.0]], ('.560', 0.9261325597763062)]\n",
      "[[[285.0, 536.0], [385.0, 539.0], [384.0, 553.0], [284.0, 551.0]], ('007874201826', 0.9441035389900208)]\n",
      "[[[438.0, 539.0], [492.0, 539.0], [492.0, 557.0], [438.0, 557.0]], ('2.98', 0.9365524053573608)]\n",
      "[[[177.0, 549.0], [255.0, 551.0], [254.0, 566.0], [177.0, 563.0]], ('ACCESSORY', 0.9943543672561646)]\n",
      "[[[286.0, 550.0], [385.0, 552.0], [384.0, 568.0], [285.0, 566.0]], ('007516161216', 0.9361446499824524)]\n",
      "[[[438.0, 553.0], [479.0, 553.0], [479.0, 572.0], [438.0, 572.0]], ('0.97', 0.9674279689788818)]\n",
      "[[[177.0, 566.0], [256.0, 566.0], [256.0, 580.0], [177.0, 580.0]], ('CHEEZE IT', 0.9114600419998169)]\n",
      "[[[285.0, 566.0], [400.0, 568.0], [399.0, 582.0], [284.0, 580.0]], ('002410053523F', 0.9718226790428162)]\n",
      "[[[210.0, 579.0], [400.0, 581.0], [399.0, 598.0], [210.0, 596.0]], ('WAS464.YOUSAVEO0.5', 0.860068678855896)]\n",
      "[[[439.0, 570.0], [493.0, 570.0], [493.0, 586.0], [439.0, 586.0]], ('4000', 0.983154296875)]\n",
      "[[[175.0, 590.0], [214.0, 594.0], [212.0, 613.0], [173.0, 609.0]], ('RITZ', 0.9942657947540283)]\n",
      "[[[284.0, 595.0], [401.0, 598.0], [400.0, 614.0], [283.0, 610.0]], ('001400088210F', 0.8564557433128357)]\n",
      "[[[436.0, 598.0], [491.0, 600.0], [491.0, 616.0], [435.0, 613.0]], ('2.78N', 0.9190074801445007)]\n",
      "[[[175.0, 610.0], [239.0, 610.0], [239.0, 625.0], [175.0, 625.0]], ('RUFFLES', 0.9869576692581177)]\n",
      "[[[283.0, 611.0], [400.0, 611.0], [400.0, 626.0], [283.0, 626.0]], ('002810020942', 0.9547900557518005)]\n",
      "[[[436.0, 612.0], [492.0, 612.0], [492.0, 631.0], [436.0, 631.0]], ('2.50.', 0.8824235796928406)]\n",
      "[[[172.0, 624.0], [403.0, 626.0], [403.0, 644.0], [171.0, 642.0]], ('GVHNYG8S007874207263F', 0.9072797894477844)]\n",
      "[[[435.0, 626.0], [492.0, 628.0], [492.0, 647.0], [434.0, 645.0]], ('128N', 0.9368515014648438)]\n",
      "[[[322.0, 640.0], [389.0, 643.0], [388.0, 659.0], [322.0, 656.0]], ('SUBTOTAL', 0.9465439319610596)]\n",
      "[[[420.0, 642.0], [474.0, 645.0], [473.0, 663.0], [419.0, 660.0]], ('139.11', 0.9294092655181885)]\n",
      "[[[248.0, 656.0], [292.0, 656.0], [292.0, 672.0], [248.0, 672.0]], ('TAX1', 0.9540086984634399)]\n",
      "[[[313.0, 657.0], [375.0, 655.0], [375.0, 672.0], [314.0, 674.0]], ('7.000', 0.9867100715637207)]\n",
      "[[[435.0, 659.0], [473.0, 659.0], [473.0, 675.0], [435.0, 675.0]], ('4.58', 0.930559515953064)]\n",
      "[[[346.0, 671.0], [389.0, 671.0], [389.0, 690.0], [346.0, 690.0]], ('TOTAL', 0.9952033758163452)]\n",
      "[[[420.0, 670.0], [475.0, 674.0], [473.0, 693.0], [418.0, 689.0]], ('14.02', 0.968274712562561)]\n",
      "[[[304.0, 686.0], [390.0, 686.0], [390.0, 705.0], [304.0, 705.0]], ('CASHTEND', 0.8274579048156738)]\n",
      "[[[420.0, 687.0], [474.0, 690.0], [473.0, 709.0], [419.0, 706.0]], ('160.02', 0.8916850686073303)]\n",
      "[[[303.0, 703.0], [391.0, 703.0], [391.0, 721.0], [303.0, 721.0]], ('CHANGE DUE', 0.9381868243217468)]\n",
      "[[[437.0, 707.0], [473.0, 707.0], [473.0, 723.0], [437.0, 723.0]], ('6.00', 0.9949585795402527)]\n",
      "[[[262.0, 720.0], [390.0, 720.0], [390.0, 734.0], [262.0, 734.0]], ('ITEHSSOLD26', 0.830139696598053)]\n",
      "[[[200.0, 732.0], [457.0, 734.0], [457.0, 753.0], [200.0, 751.0]], ('TC0783.5080.4072.341624955', 0.9262527823448181)]\n",
      "[[[231.0, 794.0], [305.0, 794.0], [305.0, 811.0], [231.0, 811.0]], ('01/27/19', 0.9236420392990112)]\n",
      "[[[342.0, 794.0], [416.0, 796.0], [415.0, 815.0], [342.0, 812.0]], ('12:69:46', 0.8358533382415771)]\n",
      "[[[161.0, 808.0], [493.0, 814.0], [493.0, 834.0], [161.0, 829.0]], ('Scan.with Valnart opp to save receipts', 0.8817922472953796)]\n"
     ]
    },
    {
     "ename": "OSError",
     "evalue": "cannot open resource",
     "output_type": "error",
     "traceback": [
      "\u001b[1;31m---------------------------------------------------------------------------\u001b[0m",
      "\u001b[1;31mOSError\u001b[0m                                   Traceback (most recent call last)",
      "Cell \u001b[1;32mIn[3], line 17\u001b[0m\n\u001b[0;32m     15\u001b[0m txts \u001b[38;5;241m=\u001b[39m [line[\u001b[38;5;241m1\u001b[39m][\u001b[38;5;241m0\u001b[39m] \u001b[38;5;28;01mfor\u001b[39;00m line \u001b[38;5;129;01min\u001b[39;00m result]\n\u001b[0;32m     16\u001b[0m scores \u001b[38;5;241m=\u001b[39m [line[\u001b[38;5;241m1\u001b[39m][\u001b[38;5;241m1\u001b[39m] \u001b[38;5;28;01mfor\u001b[39;00m line \u001b[38;5;129;01min\u001b[39;00m result]\n\u001b[1;32m---> 17\u001b[0m im_show \u001b[38;5;241m=\u001b[39m \u001b[43mdraw_ocr\u001b[49m\u001b[43m(\u001b[49m\u001b[43mimage\u001b[49m\u001b[43m,\u001b[49m\u001b[43m \u001b[49m\u001b[43mboxes\u001b[49m\u001b[43m,\u001b[49m\u001b[43m \u001b[49m\u001b[43mtxts\u001b[49m\u001b[43m,\u001b[49m\u001b[43m \u001b[49m\u001b[43mscores\u001b[49m\u001b[43m,\u001b[49m\u001b[43m \u001b[49m\u001b[43mfont_path\u001b[49m\u001b[38;5;241;43m=\u001b[39;49m\u001b[38;5;124;43m'\u001b[39;49m\u001b[38;5;124;43m/path/to/PaddleOCR/doc/fonts/simfang.ttf\u001b[39;49m\u001b[38;5;124;43m'\u001b[39;49m\u001b[43m)\u001b[49m\n\u001b[0;32m     18\u001b[0m im_show \u001b[38;5;241m=\u001b[39m Image\u001b[38;5;241m.\u001b[39mfromarray(im_show)\n\u001b[0;32m     19\u001b[0m im_show\u001b[38;5;241m.\u001b[39msave(\u001b[38;5;124m'\u001b[39m\u001b[38;5;124mresult.jpg\u001b[39m\u001b[38;5;124m'\u001b[39m)\n",
      "File \u001b[1;32mc:\\Users\\lenovo\\AppData\\Local\\Programs\\Python\\Python38\\lib\\site-packages\\paddleocr\\tools\\infer\\utility.py:481\u001b[0m, in \u001b[0;36mdraw_ocr\u001b[1;34m(image, boxes, txts, scores, drop_score, font_path)\u001b[0m\n\u001b[0;32m    479\u001b[0m \u001b[38;5;28;01mif\u001b[39;00m txts \u001b[38;5;129;01mis\u001b[39;00m \u001b[38;5;129;01mnot\u001b[39;00m \u001b[38;5;28;01mNone\u001b[39;00m:\n\u001b[0;32m    480\u001b[0m     img \u001b[38;5;241m=\u001b[39m np\u001b[38;5;241m.\u001b[39marray(resize_img(image, input_size\u001b[38;5;241m=\u001b[39m\u001b[38;5;241m600\u001b[39m))\n\u001b[1;32m--> 481\u001b[0m     txt_img \u001b[38;5;241m=\u001b[39m \u001b[43mtext_visual\u001b[49m\u001b[43m(\u001b[49m\n\u001b[0;32m    482\u001b[0m \u001b[43m        \u001b[49m\u001b[43mtxts\u001b[49m\u001b[43m,\u001b[49m\n\u001b[0;32m    483\u001b[0m \u001b[43m        \u001b[49m\u001b[43mscores\u001b[49m\u001b[43m,\u001b[49m\n\u001b[0;32m    484\u001b[0m \u001b[43m        \u001b[49m\u001b[43mimg_h\u001b[49m\u001b[38;5;241;43m=\u001b[39;49m\u001b[43mimg\u001b[49m\u001b[38;5;241;43m.\u001b[39;49m\u001b[43mshape\u001b[49m\u001b[43m[\u001b[49m\u001b[38;5;241;43m0\u001b[39;49m\u001b[43m]\u001b[49m\u001b[43m,\u001b[49m\n\u001b[0;32m    485\u001b[0m \u001b[43m        \u001b[49m\u001b[43mimg_w\u001b[49m\u001b[38;5;241;43m=\u001b[39;49m\u001b[38;5;241;43m600\u001b[39;49m\u001b[43m,\u001b[49m\n\u001b[0;32m    486\u001b[0m \u001b[43m        \u001b[49m\u001b[43mthreshold\u001b[49m\u001b[38;5;241;43m=\u001b[39;49m\u001b[43mdrop_score\u001b[49m\u001b[43m,\u001b[49m\n\u001b[0;32m    487\u001b[0m \u001b[43m        \u001b[49m\u001b[43mfont_path\u001b[49m\u001b[38;5;241;43m=\u001b[39;49m\u001b[43mfont_path\u001b[49m\u001b[43m,\u001b[49m\n\u001b[0;32m    488\u001b[0m \u001b[43m    \u001b[49m\u001b[43m)\u001b[49m\n\u001b[0;32m    489\u001b[0m     img \u001b[38;5;241m=\u001b[39m np\u001b[38;5;241m.\u001b[39mconcatenate([np\u001b[38;5;241m.\u001b[39marray(img), np\u001b[38;5;241m.\u001b[39marray(txt_img)], axis\u001b[38;5;241m=\u001b[39m\u001b[38;5;241m1\u001b[39m)\n\u001b[0;32m    490\u001b[0m     \u001b[38;5;28;01mreturn\u001b[39;00m img\n",
      "File \u001b[1;32mc:\\Users\\lenovo\\AppData\\Local\\Programs\\Python\\Python38\\lib\\site-packages\\paddleocr\\tools\\infer\\utility.py:634\u001b[0m, in \u001b[0;36mtext_visual\u001b[1;34m(texts, scores, img_h, img_w, threshold, font_path)\u001b[0m\n\u001b[0;32m    632\u001b[0m font_size \u001b[38;5;241m=\u001b[39m \u001b[38;5;241m20\u001b[39m\n\u001b[0;32m    633\u001b[0m txt_color \u001b[38;5;241m=\u001b[39m (\u001b[38;5;241m0\u001b[39m, \u001b[38;5;241m0\u001b[39m, \u001b[38;5;241m0\u001b[39m)\n\u001b[1;32m--> 634\u001b[0m font \u001b[38;5;241m=\u001b[39m \u001b[43mImageFont\u001b[49m\u001b[38;5;241;43m.\u001b[39;49m\u001b[43mtruetype\u001b[49m\u001b[43m(\u001b[49m\u001b[43mfont_path\u001b[49m\u001b[43m,\u001b[49m\u001b[43m \u001b[49m\u001b[43mfont_size\u001b[49m\u001b[43m,\u001b[49m\u001b[43m \u001b[49m\u001b[43mencoding\u001b[49m\u001b[38;5;241;43m=\u001b[39;49m\u001b[38;5;124;43m\"\u001b[39;49m\u001b[38;5;124;43mutf-8\u001b[39;49m\u001b[38;5;124;43m\"\u001b[39;49m\u001b[43m)\u001b[49m\n\u001b[0;32m    636\u001b[0m gap \u001b[38;5;241m=\u001b[39m font_size \u001b[38;5;241m+\u001b[39m \u001b[38;5;241m5\u001b[39m\n\u001b[0;32m    637\u001b[0m txt_img_list \u001b[38;5;241m=\u001b[39m []\n",
      "File \u001b[1;32mc:\\Users\\lenovo\\AppData\\Local\\Programs\\Python\\Python38\\lib\\site-packages\\PIL\\ImageFont.py:834\u001b[0m, in \u001b[0;36mtruetype\u001b[1;34m(font, size, index, encoding, layout_engine)\u001b[0m\n\u001b[0;32m    831\u001b[0m     \u001b[38;5;28;01mreturn\u001b[39;00m FreeTypeFont(font, size, index, encoding, layout_engine)\n\u001b[0;32m    833\u001b[0m \u001b[38;5;28;01mtry\u001b[39;00m:\n\u001b[1;32m--> 834\u001b[0m     \u001b[38;5;28;01mreturn\u001b[39;00m \u001b[43mfreetype\u001b[49m\u001b[43m(\u001b[49m\u001b[43mfont\u001b[49m\u001b[43m)\u001b[49m\n\u001b[0;32m    835\u001b[0m \u001b[38;5;28;01mexcept\u001b[39;00m \u001b[38;5;167;01mOSError\u001b[39;00m:\n\u001b[0;32m    836\u001b[0m     \u001b[38;5;28;01mif\u001b[39;00m \u001b[38;5;129;01mnot\u001b[39;00m is_path(font):\n",
      "File \u001b[1;32mc:\\Users\\lenovo\\AppData\\Local\\Programs\\Python\\Python38\\lib\\site-packages\\PIL\\ImageFont.py:831\u001b[0m, in \u001b[0;36mtruetype.<locals>.freetype\u001b[1;34m(font)\u001b[0m\n\u001b[0;32m    830\u001b[0m \u001b[38;5;28;01mdef\u001b[39;00m\u001b[38;5;250m \u001b[39m\u001b[38;5;21mfreetype\u001b[39m(font: StrOrBytesPath \u001b[38;5;241m|\u001b[39m BinaryIO \u001b[38;5;241m|\u001b[39m \u001b[38;5;28;01mNone\u001b[39;00m) \u001b[38;5;241m-\u001b[39m\u001b[38;5;241m>\u001b[39m FreeTypeFont:\n\u001b[1;32m--> 831\u001b[0m     \u001b[38;5;28;01mreturn\u001b[39;00m \u001b[43mFreeTypeFont\u001b[49m\u001b[43m(\u001b[49m\u001b[43mfont\u001b[49m\u001b[43m,\u001b[49m\u001b[43m \u001b[49m\u001b[43msize\u001b[49m\u001b[43m,\u001b[49m\u001b[43m \u001b[49m\u001b[43mindex\u001b[49m\u001b[43m,\u001b[49m\u001b[43m \u001b[49m\u001b[43mencoding\u001b[49m\u001b[43m,\u001b[49m\u001b[43m \u001b[49m\u001b[43mlayout_engine\u001b[49m\u001b[43m)\u001b[49m\n",
      "File \u001b[1;32mc:\\Users\\lenovo\\AppData\\Local\\Programs\\Python\\Python38\\lib\\site-packages\\PIL\\ImageFont.py:257\u001b[0m, in \u001b[0;36mFreeTypeFont.__init__\u001b[1;34m(self, font, size, index, encoding, layout_engine)\u001b[0m\n\u001b[0;32m    255\u001b[0m                 load_from_bytes(f)\n\u001b[0;32m    256\u001b[0m             \u001b[38;5;28;01mreturn\u001b[39;00m\n\u001b[1;32m--> 257\u001b[0m     \u001b[38;5;28mself\u001b[39m\u001b[38;5;241m.\u001b[39mfont \u001b[38;5;241m=\u001b[39m \u001b[43mcore\u001b[49m\u001b[38;5;241;43m.\u001b[39;49m\u001b[43mgetfont\u001b[49m\u001b[43m(\u001b[49m\n\u001b[0;32m    258\u001b[0m \u001b[43m        \u001b[49m\u001b[43mfont\u001b[49m\u001b[43m,\u001b[49m\u001b[43m \u001b[49m\u001b[43msize\u001b[49m\u001b[43m,\u001b[49m\u001b[43m \u001b[49m\u001b[43mindex\u001b[49m\u001b[43m,\u001b[49m\u001b[43m \u001b[49m\u001b[43mencoding\u001b[49m\u001b[43m,\u001b[49m\u001b[43m \u001b[49m\u001b[43mlayout_engine\u001b[49m\u001b[38;5;241;43m=\u001b[39;49m\u001b[43mlayout_engine\u001b[49m\n\u001b[0;32m    259\u001b[0m \u001b[43m    \u001b[49m\u001b[43m)\u001b[49m\n\u001b[0;32m    260\u001b[0m \u001b[38;5;28;01melse\u001b[39;00m:\n\u001b[0;32m    261\u001b[0m     load_from_bytes(font)\n",
      "\u001b[1;31mOSError\u001b[0m: cannot open resource"
     ]
    }
   ],
   "source": [
    "from paddleocr import PaddleOCR,draw_ocr\n",
    "ocr = PaddleOCR(lang='en') # need to run only once to download and load model into memory\n",
    "img_path = 'outputs/preprocessed_receipt.jpg'\n",
    "result = ocr.ocr(img_path, cls=False)\n",
    "for idx in range(len(result)):\n",
    "    res = result[idx]\n",
    "    for line in res:\n",
    "        print(line)\n",
    "\n",
    "# draw result\n",
    "from PIL import Image\n",
    "result = result[0]\n",
    "image = Image.open(img_path).convert('RGB')\n",
    "boxes = [line[0] for line in result]\n",
    "txts = [line[1][0] for line in result]\n",
    "scores = [line[1][1] for line in result]\n",
    "im_show = draw_ocr(image, boxes, txts, scores, font_path='/path/to/PaddleOCR/doc/fonts/simfang.ttf')\n",
    "im_show = Image.fromarray(im_show)\n",
    "im_show.save('result.jpg')"
   ]
  },
  {
   "cell_type": "code",
   "execution_count": null,
   "id": "0004d339",
   "metadata": {},
   "outputs": [],
   "source": []
  }
 ],
 "metadata": {
  "kernelspec": {
   "display_name": "Python 3",
   "language": "python",
   "name": "python3"
  },
  "language_info": {
   "codemirror_mode": {
    "name": "ipython",
    "version": 3
   },
   "file_extension": ".py",
   "mimetype": "text/x-python",
   "name": "python",
   "nbconvert_exporter": "python",
   "pygments_lexer": "ipython3",
   "version": "3.8.10"
  }
 },
 "nbformat": 4,
 "nbformat_minor": 5
}
